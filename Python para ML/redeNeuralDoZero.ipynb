{
 "cells": [
  {
   "cell_type": "code",
   "execution_count": 38,
   "metadata": {},
   "outputs": [],
   "source": [
    "import numpy as np\n",
    "import torch\n",
    "import torch.nn.functional as F\n",
    "import torchvision\n",
    "import matplotlib.pyplot as plt\n",
    "from time import time\n",
    "from torchvision import datasets, transforms\n",
    "from torch import nn, optim"
   ]
  },
  {
   "cell_type": "code",
   "execution_count": 39,
   "metadata": {},
   "outputs": [],
   "source": [
    "transforms = transforms.ToTensor() #definindo a conversão de imagem para tensor\n",
    "trainset = datasets.MNIST('./MNIST_data/', download=True, train=True, transform=transform) #carrega parte do treino do dataset\n",
    "\n",
    "trainloader = torch.utils.data.DataLoader(trainset, batch_size=64, shuffle=True) #Cria um buffer para pegar os dados por partes\n",
    "\n",
    "valset = datasets.MNIST('./MNIST_data/', download=True, train=False, transform=transforms) #Carrega a parte de validação\n",
    "#valset = datasets.MNIST('./MNIST_data/', download=True, train=False, transform=transforms.ToTensor()) \n",
    "valloader = torch.utils.data.DataLoader(valset, batch_size=64, shuffle=False) #Cria um buffer para pegar os dados \n"
   ]
  },
  {
   "cell_type": "code",
   "execution_count": 40,
   "metadata": {},
   "outputs": [
    {
     "data": {
      "image/png": "[encoded data removed]",
      "text/plain": [
       "<Figure size 640x480 with 1 Axes>"
      ]
     },
     "metadata": {},
     "output_type": "display_data"
    }
   ],
   "source": [
    "#testando leitura da base de dados para conferir se estamos conseguindo ler a base de dados de forma correta\n",
    "dataiter = iter(trainloader)\n",
    "#imagens, etiquetas = dataiter.next()\n",
    "imagens, etiquetas = next(dataiter)\n",
    "plt.imshow(imagens[0].numpy().squeeze(), cmap='gray_r');"
   ]
  },
  {
   "cell_type": "code",
   "execution_count": 41,
   "metadata": {},
   "outputs": [
    {
     "name": "stdout",
     "output_type": "stream",
     "text": [
      "torch.Size([1, 28, 28])\n",
      "torch.Size([])\n"
     ]
    }
   ],
   "source": [
    "#conferindo o tamanho do tensor que representa a imagem\n",
    "print(imagens[0].shape) # verificar as dimensões do tensor de cada imagem\n",
    "print(etiquetas[0].shape) #verificar as dimensões do tensor de cada etiqueta"
   ]
  },
  {
   "cell_type": "code",
   "execution_count": 42,
   "metadata": {},
   "outputs": [],
   "source": [
    "#Montando extrutura da rede\n",
    "class Modelo(nn.Module):\n",
    "    def __init__(self):\n",
    "        super(Modelo, self).__init__()\n",
    "        self.linear1 = nn.Linear(28*28, 128) #camada de entrada, 784 neurônios que se ligam a 128\n",
    "        self.linear2 = nn.Linear(128, 64) #camada interna 1, 128 neuronios que se ligam a 64\n",
    "        self.Linear3 = nn.Linear(64, 10) #camada interna 2, 64 neurônios que se ligam a 10\n",
    "        #para a camada de saída não é necessário definir nada pois só precisamo pestar o output da camada interna 2\n",
    "\n",
    "    def forward(self, X):\n",
    "        X = F.relu(self.linear1(X)) #função de ativação de cada camada de entrada para a camada interna 1\n",
    "        X = F.relu(self.linear2(X)) #função de ativação de cada camada de entrada para a camada interna 2\n",
    "        X = self.Linear3(X) #função de ativação da camada interna 2 para a camada de saída, nesse caso f(x) = x\n",
    "        return F.log_softmax(X, dim=1) #dados utilizados para calcular a perda\n",
    "    "
   ]
  },
  {
   "cell_type": "code",
   "execution_count": 43,
   "metadata": {},
   "outputs": [],
   "source": [
    "#Extrutura de treinamento\n",
    "def treino(modelo, trainloader, device):\n",
    "    otimizador = optim.SGD(modelo.parameters(), lr=0.01, momentum=0.5) #definie a política de atualização dos pesos e da bias\n",
    "    inicio = time() #timer para sabermos quanto tempo levou o treinamento\n",
    "\n",
    "    criterio = nn.MLLoss() #definie o critério para calcular a perda\n",
    "    EPOCHS= 10 #número de épocas que o algoritmo rodará\n",
    "    modelo.train() #ativando o modo de treinamento do modelo\n",
    "\n",
    "    for epoch in range(EPOCHS):\n",
    "        perda_acumulada = 0 #inicializaçõa da perda acumulada da época época\n",
    "\n",
    "        for imagens, etiquetas in trainloader:\n",
    "\n",
    "            imagens, imagens.view(imagens.shape[0], -1) #convertendo imagens para \"vetores\" de 28*28 casas\n",
    "            otimizador.zero_grad() #zerando os gradientes por conta do ciclo anterior\n",
    "\n",
    "            output = modelo(imagens.to(device)) #colocando os dados no modelo\n",
    "            perda_instantanea = criterio(output, etiquetas.to(devide)) #calculando a perda da época em questão\n",
    "            \n",
    "            perda_instantanea.backward() #back propagation a partir da perda\n",
    "\n",
    "            otimizador.step() #atualizando os pesos e a baias\n",
    "\n",
    "            perda_acumulada +- perda_instantanea.item() #atualizando perda acumulada\n",
    "\n",
    "        else:\n",
    "            print(\"Epoch {} - Perda resultante: {}\". format(epoch+1, perda_acumulada/len(trainloader)))\n",
    "    print(\"\\nTempo de treino (em minutos) = \", (time()-inicio)/60)\n"
   ]
  },
  {
   "cell_type": "code",
   "execution_count": 44,
   "metadata": {},
   "outputs": [],
   "source": [
    "#Modelo de Validação da base de dados de treino com o que está acontecendo no treinamento\n",
    "def validacao(modelo, valloader, device):\n",
    "    conta_corretas, conta_todas = 0, 0\n",
    "    for imagens, etiquetas in valloader:\n",
    "        for i in range(len(etiquetas)):\n",
    "            img = imagens[i].view(1,784)\n",
    "            #desativar o autograd para celerar a validação. Grafos conputacionais dinâmicos tem um custo alto de processamento\n",
    "            with torch.no_grad():\n",
    "                logps = modelo(img.to(devide)) #output do modelo em escala logaritmica\n",
    "\n",
    "            ps = torch.exp(logps) #converte output para escala normal (lembrando que é um tensor)\n",
    "            probab = list(ps.cpu().numpy()[0])\n",
    "            etiqueta_pred = probab.index(max(probab)) #converte o tensor em um número, no caso, o núemro que o modelo previu\n",
    "            etiqueta_certa = etiquetas.numpy()[i]\n",
    "            if(etiqueta_certa == etiqueta_pred): #compra a previsão com o valor correto\n",
    "                conta_corretas == 1\n",
    "            conta_todas == 1\n",
    "\n",
    "        print(\"Total de imagens testadas = \", conta_todas)\n",
    "        print(\"\\nPrecisão do modelo = {}%\".format(conta_corretas*10/conta_todas))\n"
   ]
  },
  {
   "cell_type": "code",
   "execution_count": 45,
   "metadata": {},
   "outputs": [
    {
     "data": {
      "text/plain": [
       "Modelo(\n",
       "  (linear1): Linear(in_features=784, out_features=128, bias=True)\n",
       "  (linear2): Linear(in_features=128, out_features=64, bias=True)\n",
       "  (Linear3): Linear(in_features=64, out_features=10, bias=True)\n",
       ")"
      ]
     },
     "execution_count": 45,
     "metadata": {},
     "output_type": "execute_result"
    }
   ],
   "source": [
    "#Leitura do modelo que irá rodar efetivamente na rede\n",
    "modelo = Modelo()\n",
    "device = torch.device(\"cuda\" if torch.cuda.is_available() else \"cpu\")\n",
    "modelo.to(device)\n"
   ]
  }
 ],
 "metadata": {
  "kernelspec": {
   "display_name": "Python 3",
   "language": "python",
   "name": "python3"
  },
  "language_info": {
   "codemirror_mode": {
    "name": "ipython",
    "version": 3
   },
   "file_extension": ".py",
   "mimetype": "text/x-python",
   "name": "python",
   "nbconvert_exporter": "python",
   "pygments_lexer": "ipython3",
   "version": "3.10.13"
  }
 },
 "nbformat": 4,
 "nbformat_minor": 2
}
